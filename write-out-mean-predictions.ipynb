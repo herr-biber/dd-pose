{
 "cells": [
  {
   "cell_type": "markdown",
   "metadata": {},
   "source": [
    "# Obtain mean head pose on *trainval* split and use as predictions for test dataset\n",
    "Implicitly documents test submission format"
   ]
  },
  {
   "cell_type": "code",
   "execution_count": null,
   "metadata": {},
   "outputs": [],
   "source": [
    "import os\n",
    "\n",
    "from dd_pose.dataset import Dataset\n",
    "from dd_pose.dataset_item import DatasetItem\n",
    "from dd_pose.image_decorator import ImageDecorator\n",
    "from dd_pose.jupyter_helpers import showimage\n",
    "from dd_pose.evaluation_helpers import T_headfrontal_camdriver, T_camdriver_headfrontal\n",
    "import transformations as tr\n",
    "import json\n",
    "\n",
    "import numpy as np"
   ]
  },
  {
   "cell_type": "code",
   "execution_count": null,
   "metadata": {},
   "outputs": [],
   "source": [
    "class MeanPredictor:\n",
    "    def __init__(self):\n",
    "        self.mean_T_camdriver_head = None\n",
    "        \n",
    "    def get_name(self):\n",
    "        return 'Prior'\n",
    "    \n",
    "    def get_dirname(self):\n",
    "        return 'prior'\n",
    "    \n",
    "    def get_metadata(self):\n",
    "        return dict()\n",
    "    \n",
    "    def initialize_from_dataset(self, dataset):\n",
    "        # get mean translation and rotation across the whole dataset\n",
    "        # we compute roll, pitch, yaw wrt. 'headfrontal' frame in order to avoid gimbal lock averaging later on\n",
    "        xyzs = []\n",
    "        rpys = []\n",
    "\n",
    "        for di_dict in dataset.get_dataset_items():\n",
    "            di = DatasetItem(di_dict)\n",
    "            print(di)\n",
    "            for stamp in di.get_stamps():\n",
    "                T_camdriver_head = di.get_T_camdriver_head(stamp)\n",
    "                T_headfrontal_head = np.dot(T_headfrontal_camdriver, T_camdriver_head)\n",
    "                rpy = tr.euler_from_matrix(T_headfrontal_head)\n",
    "                rpys.append(rpy)\n",
    "                xyzs.append(T_camdriver_head[0:3,3])\n",
    "                \n",
    "        # rpy mean in headfrontal frame\n",
    "        mean_rpy = np.mean(np.array(rpys), axis=0)\n",
    "        print(mean_rpy)\n",
    "        # xyz mean in camdriver frame\n",
    "        mean_xyz = np.mean(np.array(xyzs), axis=0)\n",
    "        print(mean_xyz)\n",
    "\n",
    "        # rotational component from mean rpy to camdriver frame\n",
    "        mean_T_headfrontal_head = tr.euler_matrix(*mean_rpy)\n",
    "        self.mean_T_camdriver_head = np.dot(T_camdriver_headfrontal, mean_T_headfrontal_head)\n",
    "        # translational component from mean xyz in camdriver frame\n",
    "        self.mean_T_camdriver_head[0:3,3] = mean_xyz\n",
    "    \n",
    "    def get_T_camdriver_head(self, stamp):\n",
    "        return self.mean_T_camdriver_head\n"
   ]
  },
  {
   "cell_type": "code",
   "execution_count": null,
   "metadata": {
    "scrolled": true
   },
   "outputs": [],
   "source": [
    "# initialize mean predictor with measurements from trainval split\n",
    "mean_predictor = MeanPredictor()\n",
    "mean_predictor.initialize_from_dataset(Dataset(split='trainval'))"
   ]
  },
  {
   "cell_type": "code",
   "execution_count": null,
   "metadata": {},
   "outputs": [],
   "source": [
    "mean_predictor.get_T_camdriver_head(0)"
   ]
  },
  {
   "cell_type": "markdown",
   "metadata": {},
   "source": [
    "# Draw mean head pose onto sample image"
   ]
  },
  {
   "cell_type": "code",
   "execution_count": null,
   "metadata": {},
   "outputs": [],
   "source": [
    "d = Dataset(split='trainval')\n",
    "di_dict = d.get(subject_id=1, scenario_id=3, humanhash='sodium-finch-fillet-spring')\n",
    "di = DatasetItem(di_dict)\n",
    "print(di)"
   ]
  },
  {
   "cell_type": "code",
   "execution_count": null,
   "metadata": {},
   "outputs": [],
   "source": [
    "stamp = di.get_stamps()[50]\n",
    "stamp"
   ]
  },
  {
   "cell_type": "code",
   "execution_count": null,
   "metadata": {},
   "outputs": [],
   "source": [
    "img, pcm = di.get_img_driver_left(stamp, shift=True)\n",
    "img_bgr = np.dstack((img, img, img))\n",
    "\n",
    "image_decorator = ImageDecorator(img_bgr, pcm)\n",
    "image_decorator.draw_axis(mean_predictor.get_T_camdriver_head(stamp), use_gray=False)\n",
    "image_decorator.draw_axis(di.get_T_camdriver_head(stamp), use_gray=True)"
   ]
  },
  {
   "cell_type": "markdown",
   "metadata": {},
   "source": [
    "colored axis: mean head pose\n",
    "gray axis: measurement (ground truth)"
   ]
  },
  {
   "cell_type": "code",
   "execution_count": null,
   "metadata": {},
   "outputs": [],
   "source": [
    "showimage(img_bgr)"
   ]
  },
  {
   "cell_type": "code",
   "execution_count": null,
   "metadata": {},
   "outputs": [],
   "source": [
    "prediction_output_base_dir = os.path.join(os.environ['DD_POSE_DATA_ROOT_DIR'], '10-predictions')\n",
    "try:\n",
    "    os.makedirs(prediction_output_base_dir)\n",
    "except:\n",
    "    pass"
   ]
  },
  {
   "cell_type": "markdown",
   "metadata": {},
   "source": [
    "# Write out mean head pose predictions for test dataset"
   ]
  },
  {
   "cell_type": "code",
   "execution_count": null,
   "metadata": {},
   "outputs": [],
   "source": [
    "d = Dataset(split='test')\n",
    "predictor = mean_predictor\n",
    "predictor.get_name(), predictor.get_dirname()"
   ]
  },
  {
   "cell_type": "code",
   "execution_count": null,
   "metadata": {},
   "outputs": [],
   "source": [
    "predictor_predictions_dir = os.path.join(prediction_output_base_dir, predictor.get_dirname())\n",
    "assert not os.path.exists(predictor_predictions_dir), \"Predictions already written out. Aborting. %s\" % predictor_predictions_dir"
   ]
  },
  {
   "cell_type": "code",
   "execution_count": null,
   "metadata": {
    "scrolled": true
   },
   "outputs": [],
   "source": [
    "for di_dict in d.get_dataset_items():\n",
    "    di = DatasetItem(di_dict)\n",
    "    print(di)\n",
    "    \n",
    "    predictions_dir = os.path.join(predictor_predictions_dir, 'subject-%02d' % di.get_subject(), 'scenario-%02d' % di.get_scenario(), di.get_humanhash())\n",
    "    \n",
    "    try:\n",
    "        os.makedirs(predictions_dir)\n",
    "    except OSError as e:\n",
    "        pass\n",
    "        \n",
    "    predictions = dict()\n",
    "    for stamp in di.get_stamps():\n",
    "        predictions[stamp] = predictor.get_T_camdriver_head(stamp).tolist()\n",
    "    \n",
    "    # write out predictions\n",
    "    with open(os.path.join(predictions_dir, 't-camdriver-head-predictions.json'), 'w') as fp:\n",
    "        json.dump(predictions, fp, sort_keys=True, indent=4)\n",
    "        \n",
    "    metadata = {\n",
    "        'name': predictor.get_name(),\n",
    "        'dirname': predictor.get_dirname(),\n",
    "        'metadata': predictor.get_metadata()\n",
    "    }\n",
    "    with open(os.path.join(predictor_predictions_dir, 'metadata.json'), 'w') as fp:\n",
    "        json.dump(metadata, fp, sort_keys=True, indent=4)"
   ]
  },
  {
   "cell_type": "code",
   "execution_count": null,
   "metadata": {},
   "outputs": [],
   "source": [
    "# now tar.gz the predictions in the format expected by the benchmark website\n",
    "print('pushd %s; tar czf %s subject-* metadata.json; popd' % (predictor_predictions_dir,\\\n",
    "                            os.path.join(predictor_predictions_dir, 'predictions.tar.gz')))"
   ]
  }
 ],
 "metadata": {
  "kernelspec": {
   "display_name": "Python 3",
   "language": "python",
   "name": "python3"
  },
  "language_info": {
   "codemirror_mode": {
    "name": "ipython",
    "version": 2
   },
   "file_extension": ".py",
   "mimetype": "text/x-python",
   "name": "python",
   "nbconvert_exporter": "python",
   "pygments_lexer": "ipython2",
   "version": "2.7.6"
  }
 },
 "nbformat": 4,
 "nbformat_minor": 1
}
