{
 "cells": [
  {
   "cell_type": "markdown",
   "metadata": {},
   "source": [
    "# DD-Pose\n",
    "## Create example images and videos for website"
   ]
  },
  {
   "cell_type": "code",
   "execution_count": null,
   "metadata": {},
   "outputs": [],
   "source": [
    "from dd_pose.dataset import Dataset\n",
    "from dd_pose.dataset_item import DatasetItem\n",
    "from dd_pose.image_decorator import ImageDecorator\n",
    "from dd_pose.jupyter_helpers import showimage\n",
    "from dd_pose.visualization_helpers import get_dashboard\n",
    "\n",
    "from multiprocess import Pool\n",
    "import numpy as np\n",
    "import random\n",
    "import cv2\n",
    "import os"
   ]
  },
  {
   "cell_type": "code",
   "execution_count": null,
   "metadata": {},
   "outputs": [],
   "source": [
    "d = Dataset(split='all')\n",
    "len(d)"
   ]
  },
  {
   "cell_type": "markdown",
   "metadata": {},
   "source": [
    "### Create carpet image with with one image per subject"
   ]
  },
  {
   "cell_type": "code",
   "execution_count": null,
   "metadata": {
    "scrolled": true
   },
   "outputs": [],
   "source": [
    "image_width = 256\n",
    "image_height = 256\n",
    "\n",
    "images = []\n",
    "random.seed(a=0xbeef * 8)\n",
    "for subject, scenario_dict in sorted(d.data.items()):\n",
    "    scenario_names = scenario_dict.keys()\n",
    "    random_scenario_name = scenario_names[random.randint(0, len(scenario_names) - 1)]\n",
    "\n",
    "    di_dicts = scenario_dict[random_scenario_name]\n",
    "    random_di_dict = di_dicts[random.randint(0, len(di_dicts) - 1)]\n",
    "    \n",
    "    di = DatasetItem(random_di_dict)\n",
    "    stamps = di.get_stamps()\n",
    "    stamp = stamps[random.randint(0, len(stamps) - 1)]\n",
    "    img, _ = di.get_img_driver_left(stamp, shift=True)\n",
    "    images.append(cv2.resize(img, (image_height, image_width), interpolation=cv2.INTER_AREA))"
   ]
  },
  {
   "cell_type": "code",
   "execution_count": null,
   "metadata": {},
   "outputs": [],
   "source": [
    "# lay out images in carpet\n",
    "n_cols = 7\n",
    "n_rows = 4\n",
    "assert(len(images) <= n_cols * n_rows)\n",
    "carpet_image = np.zeros((n_rows*image_height, n_cols*image_width), dtype=np.uint8)\n",
    "for i, image in enumerate(images):\n",
    "    row_index = i // n_cols\n",
    "    col_index = i % n_cols\n",
    "    row_px = row_index * image_height\n",
    "    col_px = col_index * image_width\n",
    "\n",
    "    carpet_image[row_px:row_px+image_height, col_px:col_px+image_width] = image"
   ]
  },
  {
   "cell_type": "code",
   "execution_count": null,
   "metadata": {},
   "outputs": [],
   "source": [
    "showimage(carpet_image)"
   ]
  },
  {
   "cell_type": "code",
   "execution_count": null,
   "metadata": {},
   "outputs": [],
   "source": [
    "cv2.imwrite(os.path.join('resources', 'all-subjects-carpet.png'), carpet_image)"
   ]
  },
  {
   "cell_type": "markdown",
   "metadata": {},
   "source": [
    "### Create timeslice image with head pose and dashboard"
   ]
  },
  {
   "cell_type": "code",
   "execution_count": null,
   "metadata": {},
   "outputs": [],
   "source": [
    "di_dict = d.get(subject_id=7, scenario_id=7, humanhash='kentucky-sweet-mars-high')\n",
    "di = DatasetItem(di_dict)\n",
    "stamps = di.get_stamps()"
   ]
  },
  {
   "cell_type": "code",
   "execution_count": null,
   "metadata": {
    "scrolled": true
   },
   "outputs": [],
   "source": [
    "timeslices = []\n",
    "\n",
    "image_width = 256\n",
    "image_height = 256\n",
    "\n",
    "start = 1345\n",
    "n_slices = 10\n",
    "step = 25\n",
    "for i in range(n_slices):\n",
    "    stamp = stamps[start + i * step]\n",
    "    img, pcm = di.get_img_driver_left(stamp, shift=True)\n",
    "    img_color = np.dstack((img, img, img))\n",
    "    image_decorator = ImageDecorator(img_color, pcm)\n",
    "    image_decorator.draw_axis(di.get_T_camdriver_head(stamp))\n",
    "    img_driver = cv2.resize(img_color, (image_width, image_height), interpolation=cv2.INTER_AREA)\n",
    "    img_driver = img_driver[25:-25,:]\n",
    "    # showimage(img_driver)\n",
    "    img, pcm = di.get_img_docu(stamp)\n",
    "    image_decorator = ImageDecorator(img, pcm)\n",
    "    image_decorator.draw_axis(np.linalg.inv(di.get_T_camdriver_camdocu()).dot(di.get_T_camdriver_head(stamp)))\n",
    "    img_docu = cv2.resize(img, (image_width, int(float(image_width)*img.shape[0]/img.shape[1])), interpolation=cv2.INTER_AREA)\n",
    "    # showimage(img_docu)\n",
    "    timeslice = np.vstack((img_driver, img_docu))\n",
    "    timeslices.append(timeslice)"
   ]
  },
  {
   "cell_type": "code",
   "execution_count": null,
   "metadata": {},
   "outputs": [],
   "source": [
    "carpet_image = np.vstack((np.hstack(timeslices[0:len(timeslices)/2]), np.hstack(timeslices[len(timeslices)/2:])))\n",
    "showimage(carpet_image)\n",
    "carpet_image.shape"
   ]
  },
  {
   "cell_type": "code",
   "execution_count": null,
   "metadata": {},
   "outputs": [],
   "source": [
    "cv2.imwrite(os.path.join('resources', 'driver-and-docu-timeslice.png'), carpet_image)"
   ]
  },
  {
   "cell_type": "markdown",
   "metadata": {},
   "source": [
    "### Create carpet showing challenges"
   ]
  },
  {
   "cell_type": "code",
   "execution_count": null,
   "metadata": {},
   "outputs": [],
   "source": [
    "image_width = 80\n",
    "image_height = image_width\n",
    "\n",
    "images = []\n",
    "random.seed(a=0xbeef * 8)\n",
    "di_dicts = list(d.get_dataset_items())\n",
    "len(di_dicts)"
   ]
  },
  {
   "cell_type": "code",
   "execution_count": null,
   "metadata": {},
   "outputs": [],
   "source": [
    "n_cols = 16\n",
    "n_rows = 9\n",
    "images = []\n",
    "random_di_dicts = np.random.choice(di_dicts, n_rows * n_cols)\n",
    "for random_di_dict in random_di_dicts:\n",
    "\n",
    "    di = DatasetItem(random_di_dict)\n",
    "    stamps = di.get_stamps()\n",
    "    stamp = stamps[random.randint(0, len(stamps) - 1)]\n",
    "    img, _ = di.get_img_driver_left(stamp, shift=True)\n",
    "    images.append(cv2.resize(img, (image_height, image_width), interpolation=cv2.INTER_AREA))"
   ]
  },
  {
   "cell_type": "code",
   "execution_count": null,
   "metadata": {},
   "outputs": [],
   "source": [
    "assert(len(images) <= n_cols * n_rows)\n",
    "carpet_image = np.zeros((n_rows*image_height, n_cols*image_width), dtype=np.uint8)\n",
    "for i, image in enumerate(images):\n",
    "    row_index = i // n_cols\n",
    "    col_index = i % n_cols\n",
    "    row_px = row_index * image_height\n",
    "    col_px = col_index * image_width\n",
    "\n",
    "    carpet_image[row_px:row_px+image_height, col_px:col_px+image_width] = image"
   ]
  },
  {
   "cell_type": "code",
   "execution_count": null,
   "metadata": {},
   "outputs": [],
   "source": [
    "showimage(carpet_image)"
   ]
  },
  {
   "cell_type": "code",
   "execution_count": null,
   "metadata": {},
   "outputs": [],
   "source": [
    "cv2.imwrite(os.path.join('resources', 'carpet-challenges.png'), carpet_image)"
   ]
  },
  {
   "cell_type": "markdown",
   "metadata": {},
   "source": [
    "### Get dashboard image with blurred gps"
   ]
  },
  {
   "cell_type": "code",
   "execution_count": null,
   "metadata": {},
   "outputs": [],
   "source": [
    "random.seed(a=85)\n",
    "di_dicts = list(d.get_dataset_items())\n",
    "di = DatasetItem(random.choice(di_dicts))\n",
    "stamp = random.choice(di.get_stamps())\n",
    "\n",
    "dashboard_img = get_dashboard(di, stamp)"
   ]
  },
  {
   "cell_type": "code",
   "execution_count": null,
   "metadata": {},
   "outputs": [],
   "source": [
    "def blur_dashboard_gps(dashboard_img):\n",
    "    row = 650\n",
    "    col = 1646\n",
    "    width = 300\n",
    "    height = 100\n",
    "    dashboard_img[row:row+height, col:col+width] = cv2.GaussianBlur(dashboard_img[row:row+height, col:col+width], (11,11), 100)\n",
    "    return dashboard_img"
   ]
  },
  {
   "cell_type": "code",
   "execution_count": null,
   "metadata": {},
   "outputs": [],
   "source": [
    "dashboard_img = blur_dashboard_gps(dashboard_img)\n",
    "showimage(dashboard_img)"
   ]
  },
  {
   "cell_type": "code",
   "execution_count": null,
   "metadata": {},
   "outputs": [],
   "source": [
    "cv2.imwrite(os.path.join('resources', 'dashboard-gps-blurred.png'), dashboard_img)"
   ]
  },
  {
   "cell_type": "markdown",
   "metadata": {},
   "source": [
    "### Create first example dashboard video"
   ]
  },
  {
   "cell_type": "code",
   "execution_count": null,
   "metadata": {},
   "outputs": [],
   "source": [
    "def write_dashboard_image(png_output_dir, di, stamp):\n",
    "    dashboard_img = get_dashboard(di, stamp)\n",
    "    dashboard_img = blur_dashboard_gps(dashboard_img)\n",
    "    cv2.imwrite(os.path.join(png_output_dir, '%ld.png' % stamp), dashboard_img)    "
   ]
  },
  {
   "cell_type": "code",
   "execution_count": null,
   "metadata": {},
   "outputs": [],
   "source": [
    "di_dict = d.get(subject_id=7, scenario_id=7, humanhash='kentucky-sweet-mars-high')\n",
    "di = DatasetItem(di_dict)\n",
    "dataset_item_str = d.get_dataset_item_str(di_dict)\n",
    "png_output_dir = os.path.join('/tmp', dataset_item_str)\n",
    "try:\n",
    "    os.makedirs(png_output_dir)\n",
    "except:\n",
    "    pass\n",
    "\n",
    "pool = Pool(16)\n",
    "pool.map(lambda stamp: write_dashboard_image(png_output_dir, di, stamp), di.get_stamps())\n",
    "del pool"
   ]
  },
  {
   "cell_type": "code",
   "execution_count": null,
   "metadata": {},
   "outputs": [],
   "source": [
    "print('mencoder -ovc lavc -oac lavc -of lavf -lavfopts format=webm -lavcopts threads=4:acodec=vorbis:vcodec=libvpx -ffourcc VP80 mf:///tmp/%s/*.png -mf fps=15:type=png -o %s.webm' % (dataset_item_str, dataset_item_str))"
   ]
  },
  {
   "cell_type": "markdown",
   "metadata": {},
   "source": [
    "### Create second example dashboard video"
   ]
  },
  {
   "cell_type": "code",
   "execution_count": null,
   "metadata": {},
   "outputs": [],
   "source": [
    "di_dict = d.get(subject_id=19, scenario_id=5, humanhash='juliet-stairway-kitten-saturn')\n",
    "di = DatasetItem(di_dict)\n",
    "dataset_item_str = d.get_dataset_item_str(di_dict)\n",
    "png_output_dir = os.path.join('/tmp', dataset_item_str)\n",
    "print(png_output_dir)\n",
    "try:\n",
    "    os.makedirs(png_output_dir)\n",
    "except:\n",
    "    pass"
   ]
  },
  {
   "cell_type": "code",
   "execution_count": null,
   "metadata": {},
   "outputs": [],
   "source": [
    "pool = Pool(16)\n",
    "pool.map(lambda stamp: write_dashboard_image(png_output_dir, di, stamp), di.get_stamps()[:15*60])\n",
    "del pool"
   ]
  },
  {
   "cell_type": "code",
   "execution_count": null,
   "metadata": {},
   "outputs": [],
   "source": []
  },
  {
   "cell_type": "code",
   "execution_count": null,
   "metadata": {},
   "outputs": [],
   "source": [
    "print('mencoder -ovc lavc -oac lavc -of lavf -lavfopts format=webm -lavcopts threads=4:acodec=vorbis:vcodec=libvpx -ffourcc VP80 mf:///tmp/%s/*.png -mf fps=15:type=png -o %s.webm' % (dataset_item_str, dataset_item_str))"
   ]
  },
  {
   "cell_type": "code",
   "execution_count": null,
   "metadata": {},
   "outputs": [],
   "source": []
  }
 ],
 "metadata": {
  "kernelspec": {
   "display_name": "Python 2",
   "language": "python",
   "name": "python2"
  },
  "language_info": {
   "codemirror_mode": {
    "name": "ipython",
    "version": 2
   },
   "file_extension": ".py",
   "mimetype": "text/x-python",
   "name": "python",
   "nbconvert_exporter": "python",
   "pygments_lexer": "ipython2",
   "version": "2.7.6"
  }
 },
 "nbformat": 4,
 "nbformat_minor": 2
}
